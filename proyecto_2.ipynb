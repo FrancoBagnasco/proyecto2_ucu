{
 "cells": [
  {
   "cell_type": "markdown",
   "metadata": {
    "deletable": false,
    "editable": false,
    "nbgrader": {
     "checksum": "a72213caf229980373130c6f1679227c",
     "grade": false,
     "grade_id": "cell-018440ed2f1b6a62",
     "locked": true,
     "schema_version": 1,
     "solution": false
    }
   },
   "source": [
    "# Proyecto 2\n",
    "Todas las preguntas tienen el mismo peso en esta tarea. Esta tarea requiere más aprendizaje individual. Te invito a consultar la [documentación de pandas](https://pandas.pydata.org/pandas-docs/stable/) para encontrar funciones o métodos que quizás no has usado aún, o realices preguntas en [Stack Overflow](https://stackoverflow.com/) y etiquételos como relacionados con pandas y python. Todas las preguntas tienen la misma cantidad de puntos, excepto la pregunta 1, que vale el 20 % de la calificación de la tarea.\n",
    "\n",
    "**Nota**: A partir de la pregunta 2 se basan en la respuesta de la pregunta 1."
   ]
  },
  {
   "cell_type": "code",
   "execution_count": 7,
   "metadata": {
    "ExecuteTime": {
     "end_time": "2023-05-20T12:26:56.955975764Z",
     "start_time": "2023-05-20T12:26:56.237425858Z"
    }
   },
   "outputs": [],
   "source": [
    "import pandas as pd\n",
    "import numpy as np\n",
    "\n",
    "# Filter all warnings. If you would like to see the warnings, please comment the two lines below.\n",
    "import warnings\n",
    "\n",
    "warnings.filterwarnings('ignore')"
   ]
  },
  {
   "cell_type": "markdown",
   "metadata": {
    "deletable": false,
    "editable": false,
    "nbgrader": {
     "checksum": "68063b8b0783f3d8122b516e0cce5f45",
     "grade": false,
     "grade_id": "cell-7e5190c7ff1f2e42",
     "locked": true,
     "schema_version": 1,
     "solution": false
    }
   },
   "source": [
    "### Pregunta 1\n",
    "Cargue los datos de energía del archivo `assets/Energy Indicators.xls`, que es una lista de indicadores de [suministro de energía y producción de electricidad renovable](assets/Energy%20Indicators.xls) de las [Naciones Unidas](https://unstats.un.org/unsd/environment/excel_file_tables/2013/Energy%20Indicators.xls) para el año 2013, y asigna esos datos a un DataFrame con el nombre de variable **energy**.\n",
    "\n",
    "Ten en cuenta que este es un archivo de Excel y no un archivo de valores separados por comas (.csv). Además, asegúrate de excluir la información del pie de página y del encabezado del archivo de datos. Las primeras dos columnas son innecesarias, por lo que debes deshacerse de ellas. También debes cambiar las etiquetas de las columnas para que las columnas sean las siguientes:\n",
    "\n",
    "`['Country', 'Energy Supply', 'Energy Supply per Capita', '% Renewable']`\n",
    "\n",
    "Convierta `Energy Supply` a gigajulios (**Nota: hay 1,000,000 giga julios en un petajulio**). Para todos los países que carezcan de datos (por ejemplo, datos con \"...\"), asegúrese de que estos reflejen valores `np.NaN`.\n",
    "\n",
    "Cambia el nombre de los siguientes países según este listado (nos servirá para preguntas posteriores):\n",
    "\n",
    "```\n",
    "\"Republic of Korea\": \"South Korea\",\n",
    "\"United States of America\": \"United States\",\n",
    "\"United Kingdom of Great Britain and Northern Ireland\": \"United Kingdom\",\n",
    "\"China, Hong Kong Special Administrative Region\": \"Hong Kong\"\n",
    "```\n",
    "\n",
    "También hay varios países que contienen paréntesis en su nombre. Asegúrete de eliminarlos, por ejemplo: `'Bolivia (Estado Plurinacional de)'` debería ser `'Bolivia'`.\n",
    "\n",
    "A continuación, carga los datos del GDP (PBI) del archivo `assets/world_bank.csv`. Este es un archivo .csv del [Banco Mundial](https://data.worldbank.org/indicator/NY.GDP.MKTP.CD) que contiene el PBI de los países desde 1960 hasta 2015. Llame a este DataFrame **gdp**.\n",
    "\n",
    "Asegúrete de omitir el encabezado y cambia el nombre de la siguiente lista de países:\n",
    "\n",
    "```\n",
    "\"Korea, Rep.\": \"South Korea\",\n",
    "\"Iran, Islamic Rep.\": \"Iran\",\n",
    "\"Hong Kong SAR, China\": \"Hong Kong\"\n",
    "```\n",
    "\n",
    "Finalmente, lee el [Sciamgo Journal and Country Rank data for Energy Engineering and Power Technology](https://www.scimagojr.com/countryrank.php?category=2102) desde el archivo `assets/scimagojr-3.xlsx`, que clasifica a los paises según sus contribuciones al área mencionada. Denomina este DataFrame con el nombre **sciamgo**.\n",
    "\n",
    "Unifica los tres datasets: GDP, Energy, y ScimEn en un nuevo dataset (utilizando la intersección de los nombres de países). Utiliza solo los años del 2006 al 2015 de datos de GDP (PBI) y solo los 15 principales países según el ranking de Scimagojr 'Rank' (del 1 al 15).\n",
    "\n",
    "El índice de este DataFrame debe ser el nombre de los países, y las columnas deben ser ['Rank', 'Documents', 'Citable documents', 'Citations', 'Self-citations', 'Citations per document', 'H index', 'Energy Supply', 'Energy Supply per Capita', '% Renewable', '2006', '2007', '2008', '2009', '2010', '2011', '2012', '2013', '2014', '2015']\n",
    "\n",
    "*Esto debería devolver un DataFrame con 20 columnas y 15 entradas, y las filas del DataFrame deberían estar ordenadas por \"Rank\".*\n"
   ]
  },
  {
   "cell_type": "code",
   "execution_count": 29,
   "metadata": {},
   "outputs": [
    {
     "name": "stdout",
     "output_type": "stream",
     "text": [
      "                    Rank  Documents  Citable documents  Citations  \\\n",
      "Country                                                             \n",
      "Russian Federation     5      18534              18301      34266   \n",
      "Canada                 6      17899              17620     215003   \n",
      "Germany                7      17027              16831     140566   \n",
      "India                  8      15005              14841     128763   \n",
      "South Korea           10      11983              11923     114675   \n",
      "Brazil                15       8668               8596      60702   \n",
      "\n",
      "                    Self-citations  Citations per document  H index  \\\n",
      "Country                                                               \n",
      "Russian Federation           12422                    1.85       57   \n",
      "Canada                       40930                   12.01      149   \n",
      "Germany                      27426                    8.26      126   \n",
      "India                        37209                    8.58      115   \n",
      "South Korea                  22595                    9.57      104   \n",
      "Brazil                       14396                    7.00       86   \n",
      "\n",
      "                   Energy Supply Energy Supply per Capita  % Renewable  \\\n",
      "Country                                                                  \n",
      "Russian Federation   30709000000                      214    17.288680   \n",
      "Canada               10431000000                      296    61.945430   \n",
      "Germany              13261000000                      165    17.901530   \n",
      "India                33195000000                       26    14.969080   \n",
      "South Korea          11007000000                      221     2.279353   \n",
      "Brazil               12149000000                       59    69.648030   \n",
      "\n",
      "                            2006          2007          2008          2009  \\\n",
      "Country                                                                      \n",
      "Russian Federation  1.385793e+12  1.504071e+12  1.583004e+12  1.459199e+12   \n",
      "Canada              1.564469e+12  1.596740e+12  1.612713e+12  1.565145e+12   \n",
      "Germany             3.332891e+12  3.441561e+12  3.478809e+12  3.283340e+12   \n",
      "India               1.265894e+12  1.374865e+12  1.428361e+12  1.549483e+12   \n",
      "South Korea         9.410199e+11  9.924316e+11  1.020510e+12  1.027730e+12   \n",
      "Brazil              1.845080e+12  1.957118e+12  2.056809e+12  2.054215e+12   \n",
      "\n",
      "                            2010          2011          2012          2013  \\\n",
      "Country                                                                      \n",
      "Russian Federation  1.524917e+12  1.589943e+12  1.645876e+12  1.666934e+12   \n",
      "Canada              1.613406e+12  1.664087e+12  1.693133e+12  1.730688e+12   \n",
      "Germany             3.417298e+12  3.542371e+12  3.556724e+12  3.567317e+12   \n",
      "India               1.708459e+12  1.821872e+12  1.924235e+12  2.051982e+12   \n",
      "South Korea         1.094499e+12  1.134796e+12  1.160809e+12  1.194429e+12   \n",
      "Brazil              2.208872e+12  2.295245e+12  2.339209e+12  2.409740e+12   \n",
      "\n",
      "                            2014          2015  \n",
      "Country                                         \n",
      "Russian Federation  1.678709e+12  1.616149e+12  \n",
      "Canada              1.773486e+12  1.792609e+12  \n",
      "Germany             3.624386e+12  3.685556e+12  \n",
      "India               2.200617e+12  2.367206e+12  \n",
      "South Korea         1.234340e+12  1.266580e+12  \n",
      "Brazil              2.412231e+12  2.319423e+12  \n"
     ]
    }
   ],
   "source": [
    "import pandas as pd\n",
    "import numpy as np\n",
    "\n",
    "# Cargar los datos de Energy Indicators.xls\n",
    "energy = pd.read_excel('assets/Energy Indicators.xls', skiprows=17, skipfooter=38, usecols=[2, 3, 4, 5], names=['Country', 'Energy Supply', 'Energy Supply per Capita', '% Renewable'])\n",
    "energy['Energy Supply'] = energy['Energy Supply'].apply(lambda x: x * 1_000_000 if not pd.isna(x) else x)\n",
    "energy['Country'] = energy['Country'].str.replace(r'\\d+', '')  # Eliminar dígitos del nombre de los países\n",
    "energy['Country'] = energy['Country'].str.replace(r'\\(.*\\)', '')  # Eliminar texto entre paréntesis\n",
    "energy['Country'] = energy['Country'].str.strip()  # Eliminar espacios en blanco al principio y al final\n",
    "\n",
    "# Cambiar nombres de países\n",
    "country_name_changes = {\n",
    "    \"Republic of Korea\": \"South Korea\",\n",
    "    \"United States of America\": \"United States\",\n",
    "    \"United Kingdom of Great Britain and Northern Ireland\": \"United Kingdom\",\n",
    "    \"China, Hong Kong Special Administrative Region\": \"Hong Kong\"\n",
    "}\n",
    "energy['Country'].replace(country_name_changes, inplace=True)\n",
    "\n",
    "# Cargar los datos del GDP (PBI) desde world_bank.csv\n",
    "gdp = pd.read_csv('assets/world_bank.csv', skiprows=4)\n",
    "gdp['Country Name'] = gdp['Country Name'].replace({\n",
    "    \"Korea, Rep.\": \"South Korea\",\n",
    "    \"Iran, Islamic Rep.\": \"Iran\",\n",
    "    \"Hong Kong SAR, China\": \"Hong Kong\"\n",
    "})\n",
    "\n",
    "# Cargar el Scimago Journal and Country Rank data\n",
    "scimago = pd.read_excel('assets/scimagojr-3.xlsx')\n",
    "\n",
    "# Seleccionar los años del 2006 al 2015 del GDP (PBI)\n",
    "gdp = gdp[['Country Name'] + [str(i) for i in range(2006, 2016)]]\n",
    "\n",
    "# Seleccionar los 15 países principales según el ranking de Scimagojr\n",
    "scimago = scimago[scimago['Rank'] <= 15]\n",
    "\n",
    "# Unir los tres conjuntos de datos en un nuevo DataFrame\n",
    "merged_df = pd.merge(scimago, energy, left_on='Country', right_on='Country', how='inner')\n",
    "merged_df = pd.merge(merged_df, gdp, left_on='Country', right_on='Country Name', how='inner')\n",
    "\n",
    "# Establecer el índice en el nombre del país y seleccionar las columnas requeridas\n",
    "merged_df = merged_df.set_index('Country')[['Rank', 'Documents', 'Citable documents', 'Citations', 'Self-citations', 'Citations per document', 'H index', 'Energy Supply', 'Energy Supply per Capita', '% Renewable'] + [str(i) for i in range(2006, 2016)]]\n",
    "\n",
    "# Ordenar por \"Rank\"\n",
    "merged_df = merged_df.sort_values(by='Rank')\n",
    "\n",
    "# Verificar el DataFrame resultante\n",
    "print(merged_df)\n"
   ]
  },
  {
   "cell_type": "markdown",
   "metadata": {
    "deletable": false,
    "editable": false,
    "nbgrader": {
     "checksum": "596280cd22ed98c5540580c62954ec2f",
     "grade": false,
     "grade_id": "cell-babe0ff2a1fc6b17",
     "locked": true,
     "schema_version": 1,
     "solution": false
    }
   },
   "source": [
    "### Pregunta 2\n",
    "La pregunta anterior unió tres datasets y luego los redujo a las 15 entradas principales. Pero antes de reducirlos a los 15 elementos principales, ¿cuántas entradas se perdieron?\n",
    "\n",
    "*Esta función debería devolver un solo número.*"
   ]
  },
  {
   "cell_type": "code",
   "execution_count": 41,
   "metadata": {
    "ExecuteTime": {
     "end_time": "2023-05-20T13:58:55.775721224Z",
     "start_time": "2023-05-20T13:58:55.774525828Z"
    },
    "deletable": false,
    "editable": false,
    "nbgrader": {
     "checksum": "c9a34da81c80126fd23ae2eac33f98f8",
     "grade": false,
     "grade_id": "cell-96f84e7b693bef63",
     "locked": true,
     "schema_version": 1,
     "solution": false
    }
   },
   "outputs": [
    {
     "data": {
      "text/html": [
       "<svg width=\"800\" height=\"300\">\n",
       "  <circle cx=\"150\" cy=\"180\" r=\"80\" fill-opacity=\"0.2\" stroke=\"black\" stroke-width=\"2\" fill=\"blue\" />\n",
       "  <circle cx=\"200\" cy=\"100\" r=\"80\" fill-opacity=\"0.2\" stroke=\"black\" stroke-width=\"2\" fill=\"red\" />\n",
       "  <circle cx=\"100\" cy=\"100\" r=\"80\" fill-opacity=\"0.2\" stroke=\"black\" stroke-width=\"2\" fill=\"green\" />\n",
       "  <line x1=\"150\" y1=\"125\" x2=\"300\" y2=\"150\" stroke=\"black\" stroke-width=\"2\" fill=\"black\" stroke-dasharray=\"5,3\"/>\n",
       "  <text x=\"300\" y=\"165\" font-family=\"Verdana\" font-size=\"35\">Todo menos esto!</text>\n",
       "</svg>\n"
      ],
      "text/plain": [
       "<IPython.core.display.HTML object>"
      ]
     },
     "metadata": {},
     "output_type": "display_data"
    }
   ],
   "source": [
    "%%HTML\n",
    "<svg width=\"800\" height=\"300\">\n",
    "  <circle cx=\"150\" cy=\"180\" r=\"80\" fill-opacity=\"0.2\" stroke=\"black\" stroke-width=\"2\" fill=\"blue\" />\n",
    "  <circle cx=\"200\" cy=\"100\" r=\"80\" fill-opacity=\"0.2\" stroke=\"black\" stroke-width=\"2\" fill=\"red\" />\n",
    "  <circle cx=\"100\" cy=\"100\" r=\"80\" fill-opacity=\"0.2\" stroke=\"black\" stroke-width=\"2\" fill=\"green\" />\n",
    "  <line x1=\"150\" y1=\"125\" x2=\"300\" y2=\"150\" stroke=\"black\" stroke-width=\"2\" fill=\"black\" stroke-dasharray=\"5,3\"/>\n",
    "  <text x=\"300\" y=\"165\" font-family=\"Verdana\" font-size=\"35\">Todo menos esto!</text>\n",
    "</svg>"
   ]
  },
  {
   "cell_type": "code",
   "execution_count": 51,
   "metadata": {
    "collapsed": false
   },
   "outputs": [
    {
     "data": {
      "text/plain": [
       "9"
      ]
     },
     "execution_count": 51,
     "metadata": {},
     "output_type": "execute_result"
    }
   ],
   "source": [
    "total_entries_before = len(scimago)  # Número de entradas en el conjunto de datos de Scimago\n",
    "total_entries_after = len(merged_df)  # Número de entradas después de la reducción a las 15 principales\n",
    "\n",
    "entradas_perdidas = total_entries_before - total_entries_after\n",
    "\n",
    "entradas_perdidas\n"
   ]
  },
  {
   "cell_type": "markdown",
   "metadata": {
    "deletable": false,
    "editable": false,
    "nbgrader": {
     "checksum": "5af1b4f99cd383263130f4c00442a133",
     "grade": false,
     "grade_id": "cell-2e54816014e48c18",
     "locked": true,
     "schema_version": 1,
     "solution": false
    }
   },
   "source": [
    "### Pregunta 3\n",
    "¿Cuáles son los 15 países con mayor GDP (PBI) promedio en los últimos 10 años?\n",
    "\n",
    "*Esta función debería devolver una serie llamada `avgGDP` con 15 países y su GDP (PBI) promedio ordenado en orden descendente.*"
   ]
  },
  {
   "cell_type": "code",
   "execution_count": 285,
   "metadata": {
    "deletable": false,
    "editable": false,
    "nbgrader": {
     "checksum": "2f9c90ee07138f94c027c5d2f907ab13",
     "grade": true,
     "grade_id": "cell-aaaa11ef7d26f4cf",
     "locked": true,
     "points": 6.66,
     "schema_version": 1,
     "solution": false
    }
   },
   "outputs": [
    {
     "data": {
      "text/plain": [
       "Country\n",
       "United States         1.536434e+13\n",
       "China                 6.348609e+12\n",
       "Japan                 5.542208e+12\n",
       "Germany               3.493025e+12\n",
       "France                2.681725e+12\n",
       "United Kingdom        2.487907e+12\n",
       "Brazil                2.189794e+12\n",
       "Italy                 2.120175e+12\n",
       "India                 1.769297e+12\n",
       "Canada                1.660647e+12\n",
       "Russian Federation    1.565459e+12\n",
       "Spain                 1.418078e+12\n",
       "Australia             1.164043e+12\n",
       "South Korea           1.106715e+12\n",
       "Mexico                1.090990e+12\n",
       "Name: Avg GDP, dtype: float64"
      ]
     },
     "execution_count": 285,
     "metadata": {},
     "output_type": "execute_result"
    }
   ],
   "source": [
    "# Calcular el PBI promedio para cada país en el período de 2006 a 2015\n",
    "gdp_columns = [str(i) for i in range(2006, 2016)]\n",
    "gdp['Avg GDP'] = gdp[gdp_columns].mean(axis=1)\n",
    "\n",
    "# Filtrar las filas que corresponden a las entradas que no son países individuales\n",
    "non_country_entries = ['World', 'High income', 'OECD members', 'Post-demographic dividend', 'IDA & IBRD total', 'Europe & Central Asia', 'Low & middle income', 'Middle income', 'IBRD only', 'European Union', 'East Asia & Pacific', 'North America', 'Upper middle income', 'Late-demographic dividend', 'Euro area', 'Early-demographic dividend', 'East Asia & Pacific (excluding high income)', 'East Asia & Pacific (IDA & IBRD countries)', 'Latin America & Caribbean', 'Latin America & the Caribbean (IDA & IBRD countries)', 'Lower middle income', 'Latin America & Caribbean (excluding high income)', 'Europe & Central Asia (IDA & IBRD countries)', 'Europe & Central Asia (excluding high income)', 'Middle East & North Africa', 'South Asia', \"South Asia (IDA & IBRD)\", \"Arab World\", \"IDA total\", \"Sub-Saharan Africa\", 'Sub-Saharan Africa (IDA & IBRD countries)', 'Sub-Saharan Africa (excluding high income)', 'Central Europe and the Baltics', \"Middle East & North Africa (excluding high income)\", \"Middle East & North Africa (IDA & IBRD countries)\"]\n",
    "\n",
    "avgGDP = gdp[~gdp['Country'].isin(non_country_entries)]\n",
    "\n",
    "# Ordenar los países en orden descendente según el PBI promedio\n",
    "avgGDP = avgGDP[['Country', 'Avg GDP']].sort_values(by='Avg GDP', ascending=False)\n",
    "\n",
    "# Seleccionar los 15 primeros países\n",
    "top15_avgGDP = avgGDP.head(15)\n",
    "\n",
    "# Establecer 'Country Name' como índice y eliminar la columna\n",
    "top15_avgGDP = top15_avgGDP.set_index('Country')['Avg GDP']\n",
    "\n",
    "top15_avgGDP"
   ]
  },
  {
   "cell_type": "markdown",
   "metadata": {},
   "source": [
    "### Pregunta 4\n",
    "¿Cuánto cambió el GDP (PBI) durante el lapso de 10 años para el país con el sexto GDP (PBI) promedio más grande?\n",
    "\n",
    "*Esta función debería devolver un solo número.*"
   ]
  },
  {
   "cell_type": "code",
   "execution_count": 293,
   "metadata": {
    "deletable": false,
    "editable": false,
    "nbgrader": {
     "checksum": "a7770c49cdfac4fa6368dfe8b39e6474",
     "grade": true,
     "grade_id": "cell-564dd8e5e24b0f83",
     "locked": true,
     "points": 6.66,
     "schema_version": 1,
     "solution": false
    }
   },
   "outputs": [
    {
     "data": {
      "text/plain": [
       "246702696075.3999"
      ]
     },
     "execution_count": 293,
     "metadata": {},
     "output_type": "execute_result"
    }
   ],
   "source": [
    "# Obtener el PBI en 2006 y 2015 para el Reino Unido (6to PBI más alto)\n",
    "gdp_uk_2006 = gdp.loc[gdp['Country'] == 'United Kingdom', '2006'].values[0]\n",
    "gdp_uk_2015 = gdp.loc[gdp['Country'] == 'United Kingdom', '2015'].values[0]\n",
    "\n",
    "# Calcular el cambio en el PBI durante 10 años para el Reino Unido\n",
    "gdp_change_uk = gdp_uk_2015 - gdp_uk_2006\n",
    "\n",
    "gdp_change_uk"
   ]
  },
  {
   "cell_type": "markdown",
   "metadata": {
    "deletable": false,
    "editable": false,
    "nbgrader": {
     "checksum": "ed6dbc94ff1b6268873413fee12741cd",
     "grade": false,
     "grade_id": "cell-617669111e38ca15",
     "locked": true,
     "schema_version": 1,
     "solution": false
    }
   },
   "source": [
    "### Pregunta 5\n",
    "¿Cuál es el suministro medio de energía per cápita (`Energy Supply per Capita`)?\n",
    "\n",
    "*Esta función debería devolver un solo número.*"
   ]
  },
  {
   "cell_type": "code",
   "execution_count": 301,
   "metadata": {
    "deletable": false,
    "editable": false,
    "nbgrader": {
     "checksum": "9d61bf22656baeecc77f63d54448590e",
     "grade": true,
     "grade_id": "cell-30cc66180851638c",
     "locked": true,
     "points": 6.66,
     "schema_version": 1,
     "solution": false
    }
   },
   "outputs": [
    {
     "name": "stdout",
     "output_type": "stream",
     "text": [
      "163.5\n"
     ]
    }
   ],
   "source": [
    "mean_energy_supply_per_capita = merged_df['Energy Supply per Capita'].mean()\n",
    "print(mean_energy_supply_per_capita)\n"
   ]
  },
  {
   "cell_type": "markdown",
   "metadata": {
    "deletable": false,
    "editable": false,
    "nbgrader": {
     "checksum": "2c7a163ae96f56317756456b0d9d695b",
     "grade": false,
     "grade_id": "cell-5c11ddd12fd71b3f",
     "locked": true,
     "schema_version": 1,
     "solution": false
    }
   },
   "source": [
    "### Pregunta 6\n",
    "¿Qué país tiene el máximo `% Renewable` y cuál es el porcentaje?\n",
    "\n",
    "*Esta función debe devolver una tupla con el nombre del país y el porcentaje.*"
   ]
  },
  {
   "cell_type": "code",
   "execution_count": 312,
   "metadata": {
    "deletable": false,
    "editable": false,
    "nbgrader": {
     "checksum": "f8b28b0a824a3b76a6244c1273648ccd",
     "grade": true,
     "grade_id": "cell-2bd201c5c7bdd80f",
     "locked": true,
     "points": 6.66,
     "schema_version": 1,
     "solution": false
    }
   },
   "outputs": [
    {
     "name": "stdout",
     "output_type": "stream",
     "text": [
      "('Brazil', 69.64803)\n"
     ]
    }
   ],
   "source": [
    "# Encontrar el país con el máximo % Renewable\n",
    "max_renewable_country = merged_df['% Renewable'].idxmax()  # Obtener el índice del país con el máximo % Renewable\n",
    "max_renewable_percentage = merged_df['% Renewable'].max()  # Obtener el valor máximo de % Renewable\n",
    "\n",
    "# Crear una tupla con el nombre del país y el porcentaje máximo de % Renewable\n",
    "result = (max_renewable_country, max_renewable_percentage)\n",
    "\n",
    "# Imprimir el resultado\n",
    "print(result)\n"
   ]
  },
  {
   "cell_type": "markdown",
   "metadata": {
    "deletable": false,
    "editable": false,
    "nbgrader": {
     "checksum": "a7b561a486a28ee4ba80a40715617c6d",
     "grade": false,
     "grade_id": "cell-ddf52a85ad3d5a11",
     "locked": true,
     "schema_version": 1,
     "solution": false
    }
   },
   "source": [
    "### Pregunta 7\n",
    "Cree una nueva columna que sea la relación entre `Self-Citations` y `Total Citations`.\n",
    "¿Cuál es el valor máximo para esta nueva columna y qué país tiene la relación más alta?\n",
    "\n",
    "*Esta función debe devolver una tupla con el nombre del país y el ratio (proporción).*"
   ]
  },
  {
   "cell_type": "code",
   "execution_count": 317,
   "metadata": {
    "deletable": false,
    "editable": false,
    "nbgrader": {
     "checksum": "ca448b3a16b65a3a08533cac736cc4d9",
     "grade": true,
     "grade_id": "cell-b7a163e9231b88c9",
     "locked": true,
     "points": 6.66,
     "schema_version": 1,
     "solution": false
    }
   },
   "outputs": [
    {
     "name": "stdout",
     "output_type": "stream",
     "text": [
      "('Russian Federation', 0.36251678048211056)\n"
     ]
    }
   ],
   "source": [
    "# Crear la nueva columna \"Citations Ratio\"\n",
    "merged_df['Citations Ratio'] = merged_df['Self-citations'] / merged_df['Citations']\n",
    "\n",
    "# Encontrar el valor máximo de la nueva columna y el país correspondiente\n",
    "max_citations_ratio_country = merged_df['Citations Ratio'].idxmax()\n",
    "max_citations_ratio_value = merged_df['Citations Ratio'].max()\n",
    "\n",
    "# Crear una tupla con el nombre del país y el valor máximo de la nueva columna\n",
    "result = (max_citations_ratio_country, max_citations_ratio_value)\n",
    "\n",
    "# Imprimir el resultado\n",
    "print(result)\n"
   ]
  },
  {
   "cell_type": "markdown",
   "metadata": {
    "deletable": false,
    "editable": false,
    "nbgrader": {
     "checksum": "7be7b86ee7467539dd88746818c78c0e",
     "grade": false,
     "grade_id": "cell-5c89296ab6f94218",
     "locked": true,
     "schema_version": 1,
     "solution": false
    }
   },
   "source": [
    "### Pregunta 8\n",
    "\n",
    "Crea una columna que estime la población utilizando `Energy Supply` y `Energy Supply per capita`.\n",
    "¿Cuál es el tercer país más poblado según esta estimación?\n",
    "\n",
    "*Esta función debería devolver el nombre del país*"
   ]
  },
  {
   "cell_type": "code",
   "execution_count": 325,
   "metadata": {
    "deletable": false,
    "editable": false,
    "nbgrader": {
     "checksum": "ba2ad50cf8198767b0bd2f75b8d97e87",
     "grade": true,
     "grade_id": "cell-3f3620c88df08b20",
     "locked": true,
     "points": 0,
     "schema_version": 1,
     "solution": false
    }
   },
   "outputs": [
    {
     "name": "stdout",
     "output_type": "stream",
     "text": [
      "Russian Federation\n"
     ]
    }
   ],
   "source": [
    "def population():\n",
    "    data = merged_df\n",
    "    data['Population'] = data['Energy Supply'] / data['Energy Supply per Capita']\n",
    "    data = data.sort_values(by = 'Population', ascending= False)\n",
    "    thrid = data.iloc[2].name\n",
    "    return thrid\n",
    "\n",
    "poblacion = population()\n",
    "print(poblacion)\n"
   ]
  },
  {
   "cell_type": "markdown",
   "metadata": {
    "deletable": false,
    "editable": false,
    "nbgrader": {
     "checksum": "164cba98164a1045db7de10dd37115c8",
     "grade": false,
     "grade_id": "cell-2065207e66e5ec01",
     "locked": true,
     "schema_version": 1,
     "solution": false
    }
   },
   "source": [
    "### Pregunta 9\n",
    "Crea una columna que estime el número de `Citable documents` por persona.\n",
    "¿Cuál es la correlación entre el número de `Citable documents` per cápita y el `Energy Supply per Capita`? Utiliza el método `.corr()`, (correlación de Pearson).\n",
    "\n",
    "*Esta función debería devolver un solo número.*\n",
    "\n",
    "*(Opcional: utiliza la función `plot9()` para visualizar la relación entre el suministro de energía per cápita y los `Citable documents` per cápita)*"
   ]
  },
  {
   "cell_type": "code",
   "execution_count": 333,
   "metadata": {
    "deletable": false,
    "nbgrader": {
     "checksum": "94e06c4c3a9618b94dbb0e86913b546c",
     "grade": false,
     "grade_id": "cell-033679ea456bfb9d",
     "locked": false,
     "schema_version": 1,
     "solution": true
    }
   },
   "outputs": [
    {
     "name": "stdout",
     "output_type": "stream",
     "text": [
      "-0.760842234092729\n"
     ]
    }
   ],
   "source": [
    "# Crear la columna \"Citable documents per Capita\"\n",
    "merged_df['Citable documents per Capita'] = merged_df['Citable documents'] / merged_df['Energy Supply per Capita']\n",
    "\n",
    "# Calcular la correlación de Pearson\n",
    "correlation = merged_df['Citable documents per Capita'].corr(merged_df['Energy Supply per Capita'])\n",
    "\n",
    "# Imprimir la correlación\n",
    "print(correlation)\n"
   ]
  },
  {
   "cell_type": "markdown",
   "metadata": {
    "deletable": false,
    "editable": false,
    "nbgrader": {
     "checksum": "8af5ffad89be1e5c6292438724d6f8d5",
     "grade": false,
     "grade_id": "cell-ad09765e29b91157",
     "locked": true,
     "schema_version": 1,
     "solution": false
    }
   },
   "source": [
    "### Pregunta 10\n",
    "Crea una nueva columna con un valor igual a 1 si el valor de % de energía renovable del país (`% Renewable`) es igual o superior de la mediana de todos los países en el top 15, o con un valor igual a 0 si el valor de % de energía renovable del país (`% Renewable`) está por debajo de la mediana.\n",
    "\n",
    "*Esta función debería devolver una serie llamada `HighRenew` cuyo índice es el nombre del país ordenado ascendentemente según el ranking.*"
   ]
  },
  {
   "cell_type": "code",
   "execution_count": 337,
   "metadata": {
    "deletable": false,
    "editable": false,
    "nbgrader": {
     "checksum": "f624e6996eca5796eaf27fb4d0593175",
     "grade": true,
     "grade_id": "cell-b29a631fd9a7730f",
     "locked": true,
     "points": 6.66,
     "schema_version": 1,
     "solution": false
    }
   },
   "outputs": [
    {
     "name": "stdout",
     "output_type": "stream",
     "text": [
      "Country\n",
      "Russian Federation    0\n",
      "Canada                1\n",
      "Germany               1\n",
      "India                 0\n",
      "South Korea           0\n",
      "Brazil                1\n",
      "Name: HighRenew, dtype: int64\n"
     ]
    }
   ],
   "source": [
    "# Calcular la mediana de la columna '% Renewable'\n",
    "median_renewable = merged_df['% Renewable'].median()\n",
    "\n",
    "# Crear la columna 'HighRenew' basada en la mediana\n",
    "merged_df['HighRenew'] = merged_df['% Renewable'].apply(lambda x: 1 if x >= median_renewable else 0)\n",
    "\n",
    "# Ordenar el DataFrame por el ranking\n",
    "merged_df = merged_df.sort_values(by='Rank')\n",
    "\n",
    "# Crear una serie llamada 'HighRenew' y establecer el índice como el nombre del país\n",
    "HighRenew = merged_df['HighRenew']\n",
    "\n",
    "# Imprimir la serie HighRenew\n",
    "print(HighRenew)\n"
   ]
  },
  {
   "cell_type": "markdown",
   "metadata": {
    "deletable": false,
    "editable": false,
    "nbgrader": {
     "checksum": "52f682e7066791c34cd3b2402855cbf5",
     "grade": false,
     "grade_id": "cell-677c51ba711c3af7",
     "locked": true,
     "schema_version": 1,
     "solution": false
    }
   },
   "source": [
    "### Pregunta 11\n",
    "Utiliza el siguiente diccionario para agrupar los países por continente, luego crea un DataFrame que muestre el tamaño de la muestra (la cantidad de países en cada contenedor de continente) y la suma, la media y la desviación estándar para la población estimada de cada país.\n",
    "\n",
    "```python\n",
    "continent_dict  = {'China':'Asia',\n",
    "                   'United States':'North America',\n",
    "                   'Japan':'Asia',\n",
    "                   'United Kingdom':'Europe',\n",
    "                   'Russian Federation':'Europe',\n",
    "                   'Canada':'North America',\n",
    "                   'Germany':'Europe',\n",
    "                   'India':'Asia',\n",
    "                   'France':'Europe',\n",
    "                   'South Korea':'Asia',\n",
    "                   'Italy':'Europe',\n",
    "                   'Spain':'Europe',\n",
    "                   'Iran':'Asia',\n",
    "                   'Australia':'Australia',\n",
    "                   'Brazil':'South America'}\n",
    "```\n",
    "\n",
    "*Esta función debería devolver un DataFrame con un índice llamado Continent `['Asia', 'Australia', 'Europe', 'North America', 'South America']` y columnas `['size', 'sum', 'mean', 'std']`*"
   ]
  },
  {
   "cell_type": "code",
   "execution_count": 386,
   "metadata": {
    "deletable": false,
    "editable": false,
    "nbgrader": {
     "checksum": "233318097d9c94fdc87395c967da14c4",
     "grade": true,
     "grade_id": "cell-18d1a07971b25743",
     "locked": true,
     "points": 6.66,
     "schema_version": 1,
     "solution": false
    }
   },
   "outputs": [
    {
     "data": {
      "text/html": [
       "<div>\n",
       "<style scoped>\n",
       "    .dataframe tbody tr th:only-of-type {\n",
       "        vertical-align: middle;\n",
       "    }\n",
       "\n",
       "    .dataframe tbody tr th {\n",
       "        vertical-align: top;\n",
       "    }\n",
       "\n",
       "    .dataframe thead th {\n",
       "        text-align: right;\n",
       "    }\n",
       "</style>\n",
       "<table border=\"1\" class=\"dataframe\">\n",
       "  <thead>\n",
       "    <tr style=\"text-align: right;\">\n",
       "      <th></th>\n",
       "      <th>size</th>\n",
       "      <th>sum</th>\n",
       "      <th>mean</th>\n",
       "      <th>std</th>\n",
       "    </tr>\n",
       "    <tr>\n",
       "      <th>Continent</th>\n",
       "      <th></th>\n",
       "      <th></th>\n",
       "      <th></th>\n",
       "      <th></th>\n",
       "    </tr>\n",
       "  </thead>\n",
       "  <tbody>\n",
       "    <tr>\n",
       "      <th>Asia</th>\n",
       "      <td>2</td>\n",
       "      <td>1326536199.095022</td>\n",
       "      <td>663268099.547511</td>\n",
       "      <td>8.675672e+08</td>\n",
       "    </tr>\n",
       "    <tr>\n",
       "      <th>Europe</th>\n",
       "      <td>2</td>\n",
       "      <td>223869696.969697</td>\n",
       "      <td>111934848.484848</td>\n",
       "      <td>4.463987e+07</td>\n",
       "    </tr>\n",
       "    <tr>\n",
       "      <th>North America</th>\n",
       "      <td>1</td>\n",
       "      <td>35239864.864865</td>\n",
       "      <td>35239864.864865</td>\n",
       "      <td>NaN</td>\n",
       "    </tr>\n",
       "    <tr>\n",
       "      <th>South America</th>\n",
       "      <td>1</td>\n",
       "      <td>205915254.237288</td>\n",
       "      <td>205915254.237288</td>\n",
       "      <td>NaN</td>\n",
       "    </tr>\n",
       "  </tbody>\n",
       "</table>\n",
       "</div>"
      ],
      "text/plain": [
       "               size                sum              mean           std\n",
       "Continent                                                             \n",
       "Asia              2  1326536199.095022  663268099.547511  8.675672e+08\n",
       "Europe            2   223869696.969697  111934848.484848  4.463987e+07\n",
       "North America     1    35239864.864865   35239864.864865           NaN\n",
       "South America     1   205915254.237288  205915254.237288           NaN"
      ]
     },
     "execution_count": 386,
     "metadata": {},
     "output_type": "execute_result"
    }
   ],
   "source": [
    "import pandas as pd\n",
    "import numpy as np\n",
    "\n",
    "def group_by_continent():\n",
    "   \n",
    "    data = merged_df\n",
    "    \n",
    "    # Diccionario de continentes\n",
    "    continent_dict = {'China': 'Asia',\n",
    "                      'United States': 'North America',\n",
    "                      'Japan': 'Asia',\n",
    "                      'United Kingdom': 'Europe',\n",
    "                      'Russian Federation': 'Europe',\n",
    "                      'Canada': 'North America',\n",
    "                      'Germany': 'Europe',\n",
    "                      'India': 'Asia',\n",
    "                      'France': 'Europe',\n",
    "                      'South Korea': 'Asia',\n",
    "                      'Italy': 'Europe',\n",
    "                      'Spain': 'Europe',\n",
    "                      'Iran': 'Asia',\n",
    "                      'Australia': 'Australia',\n",
    "                      'Brazil': 'South America'}\n",
    "    \n",
    "   # Agregar la columna 'Continent' al DataFrame\n",
    "    data['Continent'] = [continent_dict[country] for country in data.index]\n",
    "\n",
    "    # Calcular la población estimada y agregarla al DataFrame\n",
    "    data['Population'] = data['Energy Supply'] / data['Energy Supply per Capita']\n",
    "\n",
    "    # Agrupar por continente y calcular las estadísticas\n",
    "    grouped = data.groupby('Continent')['Population'].agg(['size', 'sum', 'mean', 'std'])\n",
    "    \n",
    "    return grouped\n",
    "\n",
    "group_by_continent()\n",
    "\n",
    "# Intenté, pero no pude añadir a Australia a la tabla, la misma solo tomo los datos de los 6 paises de merged_df del ejercicio 1"
   ]
  }
 ],
 "metadata": {
  "anaconda-cloud": {},
  "coursera": {
   "schema_names": [
    "mooc_adswpy_1_v2_assignment3"
   ]
  },
  "kernelspec": {
   "display_name": "Python 3 (ipykernel)",
   "language": "python",
   "name": "python3"
  },
  "language_info": {
   "codemirror_mode": {
    "name": "ipython",
    "version": 3
   },
   "file_extension": ".py",
   "mimetype": "text/x-python",
   "name": "python",
   "nbconvert_exporter": "python",
   "pygments_lexer": "ipython3",
   "version": "3.11.6"
  }
 },
 "nbformat": 4,
 "nbformat_minor": 1
}
